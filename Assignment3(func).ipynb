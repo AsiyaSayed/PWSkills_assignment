{
 "cells": [
  {
   "cell_type": "markdown",
   "id": "ec11d3d1-abd3-4799-9089-fd65257307f5",
   "metadata": {},
   "source": [
    "Q1. Which keyword is used to create a function? Create a function to return a list of odd numbers in the\n",
    "range of 1 to 25.\n",
    "\n",
    "Q2. Why *args and **kwargs is used in some functions? Create a function each for *args and **kwargs to\n",
    "demonstrate their use.\n",
    "\n",
    "Q3. What is an iterator in python? Name the method used to initialise the iterator object and the method\n",
    "used for iteration. Use these methods to print the first five elements of the given list [2, 4, 6, 8, 10, 12, 14, 16,\n",
    "18, 20].\n",
    "\n",
    "Q4. What is a generator function in python? Why yield keyword is used? Give an example of a generator\n",
    "function.\n",
    "\n",
    "Q5. Create a generator function for prime numbers less than 1000. Use the next() method to print the\n",
    "first 20 prime numbers."
   ]
  },
  {
   "cell_type": "code",
   "execution_count": 16,
   "id": "3d389df7-b277-43e5-b99d-0efaeae3f6c6",
   "metadata": {},
   "outputs": [
    {
     "name": "stdout",
     "output_type": "stream",
     "text": [
      "1\n",
      "3\n",
      "5\n",
      "7\n",
      "9\n",
      "11\n",
      "13\n",
      "15\n",
      "17\n",
      "19\n",
      "21\n",
      "23\n"
     ]
    }
   ],
   "source": [
    "# Ans.1\n",
    "\n",
    "# def keyword is used to create function. \n",
    "\n",
    "# Ex:\n",
    "def fun():\n",
    "    for i in range(1,25):\n",
    "         if i%2!=0:\n",
    "            print (i)\n",
    "fun()\n",
    "        \n",
    "\n"
   ]
  },
  {
   "cell_type": "code",
   "execution_count": null,
   "id": "a44dd5ae-934e-4844-881b-8b9e098541a2",
   "metadata": {},
   "outputs": [],
   "source": []
  },
  {
   "cell_type": "markdown",
   "id": "c7c87d2d-a64d-4167-b0ce-c69afae7c845",
   "metadata": {},
   "source": [
    "Ans.2\n",
    "The special syntax *args in function definitions in Python is used to pass a variable number of arguments to a function.\n",
    "\n",
    "The special syntax **kwargs in function definitions in Python is used to pass a keyworded, variable-length argument list.\n"
   ]
  },
  {
   "cell_type": "code",
   "execution_count": 13,
   "id": "ecbea791-0dad-4a35-ae85-d5b131c89635",
   "metadata": {},
   "outputs": [
    {
     "data": {
      "text/plain": [
       "(1, 5)"
      ]
     },
     "execution_count": 13,
     "metadata": {},
     "output_type": "execute_result"
    }
   ],
   "source": [
    "#Ex: *args\n",
    "\n",
    "def test(*args):\n",
    "    return args\n",
    "test(1,5)"
   ]
  },
  {
   "cell_type": "code",
   "execution_count": 15,
   "id": "e86bdd0c-48a7-4136-ab33-19143cb234d3",
   "metadata": {},
   "outputs": [
    {
     "data": {
      "text/plain": [
       "{'a': 1, 'b': [1, 5, 8], 'c': 'Asiya'}"
      ]
     },
     "execution_count": 15,
     "metadata": {},
     "output_type": "execute_result"
    }
   ],
   "source": [
    "#Ex: **args\n",
    "\n",
    "def test1(**kwargs):\n",
    "    return kwargs\n",
    "test1(a=1,b=[1,5,8],c='Asiya')"
   ]
  },
  {
   "cell_type": "code",
   "execution_count": null,
   "id": "fb3ee042-526b-4f85-ae1a-8e4cf7594811",
   "metadata": {},
   "outputs": [],
   "source": []
  },
  {
   "cell_type": "code",
   "execution_count": 20,
   "id": "3ba65cfd-ad66-4a1f-bb22-21cf147250c4",
   "metadata": {},
   "outputs": [
    {
     "name": "stdout",
     "output_type": "stream",
     "text": [
      "2\n",
      "4\n",
      "6\n",
      "8\n",
      "10\n"
     ]
    }
   ],
   "source": [
    "# Ans.3\n",
    "\n",
    "# An iterator in Python is an object that contains a countable number of elements that can be iterated upon.\n",
    "# The for loop in Python is used to iterate over a sequence of elements, such as a list, tuple, or string.\n",
    "\n",
    "my_list = [2, 4, 6, 8, 10, 12, 14, 16, 18, 20]\n",
    "\n",
    "for i in my_list[0:5]:\n",
    "    print(i)\n",
    "\n"
   ]
  },
  {
   "cell_type": "code",
   "execution_count": null,
   "id": "c2a92ebd-6114-4e48-85e2-ab57fb93e6f8",
   "metadata": {},
   "outputs": [],
   "source": []
  },
  {
   "cell_type": "code",
   "execution_count": 27,
   "id": "290b8a57-8ca9-4c58-9b46-2b0163e1af93",
   "metadata": {},
   "outputs": [
    {
     "data": {
      "text/plain": [
       "<generator object fib at 0x7fd07d2c2650>"
      ]
     },
     "execution_count": 27,
     "metadata": {},
     "output_type": "execute_result"
    }
   ],
   "source": [
    "# Ans.4\n",
    "\n",
    "# A type of function that is memory efficient and can be used like an iterator object. \n",
    "# In simple terms, the yield keyword will turn any expression that is given with it into a generator object and return it to the caller.\n",
    "\n",
    "# Ex:Fibonacci Series is a generator func.\n",
    "\n",
    "def fib(n):\n",
    "    a,b=0,1\n",
    "    for i in range(n):\n",
    "        yield a\n",
    "        a,b=b,a+b\n",
    "        \n",
    "fib(8)  "
   ]
  },
  {
   "cell_type": "code",
   "execution_count": 28,
   "id": "f83cbb58-d08b-40f9-a8d6-070bd0f34a7d",
   "metadata": {},
   "outputs": [
    {
     "name": "stdout",
     "output_type": "stream",
     "text": [
      "0\n",
      "1\n",
      "1\n",
      "2\n",
      "3\n",
      "5\n",
      "8\n",
      "13\n"
     ]
    }
   ],
   "source": [
    "#Now to extract data from this generator func, we will use for loop.\n",
    "\n",
    "for i in fib(8):\n",
    "    print (i)\n",
    "             "
   ]
  },
  {
   "cell_type": "code",
   "execution_count": null,
   "id": "8c27e2b7-ac41-4ffe-83d7-90e89879fb83",
   "metadata": {},
   "outputs": [],
   "source": []
  },
  {
   "cell_type": "code",
   "execution_count": 31,
   "id": "9077e57a-0f7a-4a51-abff-a9756c0754de",
   "metadata": {},
   "outputs": [
    {
     "data": {
      "text/plain": [
       "<generator object prime at 0x7fd07d2c2880>"
      ]
     },
     "execution_count": 31,
     "metadata": {},
     "output_type": "execute_result"
    }
   ],
   "source": [
    "#Ans.5\n",
    "\n",
    "def prime(n):\n",
    "    for i in range(0,n):\n",
    "        if i%2==0:\n",
    "            yield i\n",
    "prime(1000)"
   ]
  },
  {
   "cell_type": "code",
   "execution_count": 33,
   "id": "ce3a9029-172a-4729-a3bc-f2065c404eeb",
   "metadata": {},
   "outputs": [
    {
     "name": "stdout",
     "output_type": "stream",
     "text": [
      "0\n",
      "2\n",
      "4\n",
      "6\n",
      "8\n",
      "10\n",
      "12\n",
      "14\n",
      "16\n",
      "18\n"
     ]
    }
   ],
   "source": [
    "for i in prime(20):\n",
    "    print(i)"
   ]
  },
  {
   "cell_type": "code",
   "execution_count": null,
   "id": "52f5ce42-91bb-490f-9849-8fd3c64e21e4",
   "metadata": {},
   "outputs": [],
   "source": []
  }
 ],
 "metadata": {
  "kernelspec": {
   "display_name": "Python 3 (ipykernel)",
   "language": "python",
   "name": "python3"
  },
  "language_info": {
   "codemirror_mode": {
    "name": "ipython",
    "version": 3
   },
   "file_extension": ".py",
   "mimetype": "text/x-python",
   "name": "python",
   "nbconvert_exporter": "python",
   "pygments_lexer": "ipython3",
   "version": "3.10.8"
  }
 },
 "nbformat": 4,
 "nbformat_minor": 5
}
