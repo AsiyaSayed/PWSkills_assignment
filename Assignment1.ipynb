{
 "cells": [
  {
   "cell_type": "code",
   "execution_count": 1,
   "id": "b8173348-a029-4c30-ab84-c7082fe27107",
   "metadata": {},
   "outputs": [],
   "source": [
    "i=10"
   ]
  },
  {
   "cell_type": "code",
   "execution_count": 2,
   "id": "b6eb0c5c-b4c8-4bd4-8605-a3b708695148",
   "metadata": {},
   "outputs": [
    {
     "name": "stdout",
     "output_type": "stream",
     "text": [
      "10\n"
     ]
    }
   ],
   "source": [
    "print(i)"
   ]
  },
  {
   "cell_type": "code",
   "execution_count": 4,
   "id": "597babab-491f-4ebb-8735-c7c801e878b4",
   "metadata": {},
   "outputs": [
    {
     "name": "stdout",
     "output_type": "stream",
     "text": [
      "Asiya Sayed\n"
     ]
    }
   ],
   "source": [
    "print(\"Asiya Sayed\")"
   ]
  },
  {
   "cell_type": "markdown",
   "id": "c4e83de6-7778-4f60-b425-164d80fb7c96",
   "metadata": {},
   "source": [
    "QUESTION-1"
   ]
  },
  {
   "cell_type": "code",
   "execution_count": 7,
   "id": "c060b28f-4449-45af-8bec-ac98140f46a7",
   "metadata": {},
   "outputs": [
    {
     "data": {
      "text/plain": [
       "str"
      ]
     },
     "execution_count": 7,
     "metadata": {},
     "output_type": "execute_result"
    }
   ],
   "source": [
    "A=\"STRING\"\n",
    "type(A)"
   ]
  },
  {
   "cell_type": "code",
   "execution_count": 9,
   "id": "f726f2eb-85dc-4807-9114-949eda47a83b",
   "metadata": {},
   "outputs": [
    {
     "data": {
      "text/plain": [
       "list"
      ]
     },
     "execution_count": 9,
     "metadata": {},
     "output_type": "execute_result"
    }
   ],
   "source": [
    "B=['abc',12,'aaa']\n",
    "type(B)"
   ]
  },
  {
   "cell_type": "code",
   "execution_count": 11,
   "id": "5e9a21a0-b767-45cc-ab3d-98dde611828a",
   "metadata": {},
   "outputs": [
    {
     "data": {
      "text/plain": [
       "tuple"
      ]
     },
     "execution_count": 11,
     "metadata": {},
     "output_type": "execute_result"
    }
   ],
   "source": [
    "C=('ABC',456,1+2j)\n",
    "type(C)"
   ]
  },
  {
   "cell_type": "code",
   "execution_count": 12,
   "id": "a4898a88-e465-449d-a463-44b15a625323",
   "metadata": {},
   "outputs": [
    {
     "data": {
      "text/plain": [
       "float"
      ]
     },
     "execution_count": 12,
     "metadata": {},
     "output_type": "execute_result"
    }
   ],
   "source": [
    "D=1.332\n",
    "type(D)"
   ]
  },
  {
   "cell_type": "markdown",
   "id": "1b54a925-9eb8-45f6-bb8a-3862275b580b",
   "metadata": {},
   "source": [
    "QUESTION-2"
   ]
  },
  {
   "cell_type": "code",
   "execution_count": 20,
   "id": "614b1bff-28ea-47e2-a77a-b12b1d6db2c2",
   "metadata": {},
   "outputs": [],
   "source": [
    "var1 = ' '\n",
    "var2 = '[ DS , ML , Python]'\n",
    "var3 = [ 'DS' , 'ML' , 'Python' ]\n",
    "var4 = 1"
   ]
  },
  {
   "cell_type": "code",
   "execution_count": 21,
   "id": "4a096bb1-2848-4ec2-9455-2129d718f822",
   "metadata": {},
   "outputs": [
    {
     "data": {
      "text/plain": [
       "str"
      ]
     },
     "execution_count": 21,
     "metadata": {},
     "output_type": "execute_result"
    }
   ],
   "source": [
    "type(var1)"
   ]
  },
  {
   "cell_type": "code",
   "execution_count": 22,
   "id": "19667d39-4ee6-4df6-9c53-f2f0b48f8356",
   "metadata": {},
   "outputs": [
    {
     "data": {
      "text/plain": [
       "str"
      ]
     },
     "execution_count": 22,
     "metadata": {},
     "output_type": "execute_result"
    }
   ],
   "source": [
    "type(var2)"
   ]
  },
  {
   "cell_type": "code",
   "execution_count": 23,
   "id": "277d4b96-5f14-49d7-92ae-fcee0c963c21",
   "metadata": {},
   "outputs": [
    {
     "data": {
      "text/plain": [
       "list"
      ]
     },
     "execution_count": 23,
     "metadata": {},
     "output_type": "execute_result"
    }
   ],
   "source": [
    "type(var3)"
   ]
  },
  {
   "cell_type": "code",
   "execution_count": 24,
   "id": "b3b8fba9-acf4-4164-a279-9e8c1370c4ec",
   "metadata": {},
   "outputs": [
    {
     "data": {
      "text/plain": [
       "int"
      ]
     },
     "execution_count": 24,
     "metadata": {},
     "output_type": "execute_result"
    }
   ],
   "source": [
    "type(var4)"
   ]
  },
  {
   "cell_type": "markdown",
   "id": "f688fd1c-e600-4181-84ca-73a32ef783fe",
   "metadata": {},
   "source": [
    "QUESTION-3"
   ]
  },
  {
   "cell_type": "code",
   "execution_count": 32,
   "id": "3715ecdd-6100-4b8d-94df-728edafedf9d",
   "metadata": {},
   "outputs": [
    {
     "data": {
      "text/plain": [
       "1.5"
      ]
     },
     "execution_count": 32,
     "metadata": {},
     "output_type": "execute_result"
    }
   ],
   "source": [
    "a=3/2                   #division operation\n",
    "a"
   ]
  },
  {
   "cell_type": "code",
   "execution_count": 33,
   "id": "0dae3025-252c-4b4f-be21-093d5da212a7",
   "metadata": {},
   "outputs": [
    {
     "data": {
      "text/plain": [
       "1"
      ]
     },
     "execution_count": 33,
     "metadata": {},
     "output_type": "execute_result"
    }
   ],
   "source": [
    "b=5%2                   #modulus operation\n",
    "b"
   ]
  },
  {
   "cell_type": "code",
   "execution_count": 34,
   "id": "c04436c2-8dbe-426a-8e80-a698d86e3e08",
   "metadata": {},
   "outputs": [
    {
     "data": {
      "text/plain": [
       "3"
      ]
     },
     "execution_count": 34,
     "metadata": {},
     "output_type": "execute_result"
    }
   ],
   "source": [
    "c=6//2                 #Quotient when 6 is divided by 2 , rounded to the next smallest whole number\n",
    "c"
   ]
  },
  {
   "cell_type": "code",
   "execution_count": 29,
   "id": "742b4b25-e08f-490d-b7ad-8b20bc2e8b2b",
   "metadata": {},
   "outputs": [
    {
     "data": {
      "text/plain": [
       "16"
      ]
     },
     "execution_count": 29,
     "metadata": {},
     "output_type": "execute_result"
    }
   ],
   "source": [
    "d=4**2               #exponent operation\n",
    "d"
   ]
  },
  {
   "cell_type": "markdown",
   "id": "f25814b9-8630-4a63-96b7-c5b87496b72d",
   "metadata": {},
   "source": [
    "QUESTION-4\n",
    "\n",
    "Create a list of length 10 of your choice containing multiple types of data. Using for loop print the element and its data type."
   ]
  },
  {
   "cell_type": "code",
   "execution_count": 67,
   "id": "a5d7fb24-fbfb-43cb-951e-e492d92d22bd",
   "metadata": {},
   "outputs": [
    {
     "name": "stdout",
     "output_type": "stream",
     "text": [
      "1 <class 'int'>\n",
      "1.2 <class 'float'>\n",
      "(1+2j) <class 'complex'>\n",
      "abc <class 'str'>\n",
      "(123, 'assa') <class 'tuple'>\n",
      "{1: 'abc', 2: 'def'} <class 'dict'>\n",
      "23.12 <class 'float'>\n",
      "12.3 <class 'str'>\n",
      "ADA12 <class 'str'>\n",
      "12.44j <class 'complex'>\n"
     ]
    }
   ],
   "source": [
    "l1=[1,1.2,1+2j,'abc',(123,'assa'),{1:'abc',2:'def'},23.12,'12.3','ADA12',12.44J ]\n",
    "for i in l1:\n",
    "     print(i, type(i))"
   ]
  },
  {
   "cell_type": "markdown",
   "id": "86085080-b77b-440c-b92a-fc496a78d9b3",
   "metadata": {},
   "source": [
    "QUESTION-5\n",
    "\n",
    "Using a while loop, verify if the number A is purely divisible by number B and if so then how many times it can be divisible.\n"
   ]
  },
  {
   "cell_type": "code",
   "execution_count": 84,
   "id": "eaba4cce-16ac-4f56-bec9-078210c45a5a",
   "metadata": {},
   "outputs": [
    {
     "name": "stdin",
     "output_type": "stream",
     "text": [
      "Enter integer:  2\n",
      "Enter integer:  2\n"
     ]
    },
    {
     "name": "stdout",
     "output_type": "stream",
     "text": [
      "0\n"
     ]
    }
   ],
   "source": [
    "a=int(input(\"Enter integer: \"))\n",
    "b=int(input(\"Enter integer: \"))\n",
    "c=0\n",
    "if (a%b==0):\n",
    "    while(a%b>=b and type(a/b)==int):\n",
    "        c+=1\n",
    "        a/=b\n",
    "    print(c)\n",
    "else:\n",
    "    print(\"not divisible\")\n",
    "        "
   ]
  },
  {
   "cell_type": "markdown",
   "id": "69a1bc10-6605-4189-abbe-f98b03b6e48a",
   "metadata": {},
   "source": [
    "QUESTION-5\n",
    "\n",
    "Create a list containing 25 int type data. Using for loop and if-else condition print if the element is\n",
    "divisible by 3 or not."
   ]
  },
  {
   "cell_type": "code",
   "execution_count": 97,
   "id": "5d6ae85a-06a7-4dbc-b5c9-f2a125309841",
   "metadata": {},
   "outputs": [
    {
     "name": "stdout",
     "output_type": "stream",
     "text": [
      "Not divisible 1\n",
      "Not divisible 2\n",
      "Divisible 3\n",
      "Not divisible 4\n",
      "Not divisible 5\n",
      "Divisible 6\n",
      "Not divisible 7\n",
      "Not divisible 8\n",
      "Divisible 9\n",
      "Not divisible 10\n",
      "Not divisible 11\n",
      "Divisible 12\n",
      "Not divisible 13\n",
      "Not divisible 14\n",
      "Divisible 15\n",
      "Not divisible 16\n",
      "Not divisible 17\n",
      "Divisible 18\n",
      "Not divisible 19\n",
      "Not divisible 20\n",
      "Divisible 21\n",
      "Not divisible 22\n",
      "Not divisible 23\n",
      "Divisible 24\n",
      "Not divisible 25\n"
     ]
    }
   ],
   "source": [
    "L = [i for i in range(1,26)]\n",
    "for i in L:\n",
    "    if i%3==0:\n",
    "        print(\"Divisible\",i)\n",
    "    else:\n",
    "        print(\"Not divisible\",i)"
   ]
  },
  {
   "cell_type": "markdown",
   "id": "4076e824-c9ee-4717-b10f-52d4df9ed0c2",
   "metadata": {},
   "source": [
    "QUESTION-7\n",
    "\n",
    "What do you understand about mutable and immutable data types? Give examples for both showing\n",
    "this property."
   ]
  },
  {
   "cell_type": "code",
   "execution_count": 100,
   "id": "748c0ab5-6cf9-4a91-a466-3c77c8840140",
   "metadata": {},
   "outputs": [
    {
     "data": {
      "text/plain": [
       "[6, 2, 3]"
      ]
     },
     "execution_count": 100,
     "metadata": {},
     "output_type": "execute_result"
    }
   ],
   "source": [
    "#Mutable datatypes:  are those whose value that can be changed in place after they have been created.\n",
    "#Immutable:  are those whose value that can not be changed in place after they have been created.\n",
    "\n",
    "#Ex: MUTABLE\n",
    "\n",
    "a=[1,2,3]\n",
    "a[0]=6\n",
    "a\n"
   ]
  },
  {
   "cell_type": "code",
   "execution_count": 102,
   "id": "c3af934e-a6bb-40e8-ba2c-0b6050e3089c",
   "metadata": {},
   "outputs": [
    {
     "ename": "TypeError",
     "evalue": "'tuple' object does not support item assignment",
     "output_type": "error",
     "traceback": [
      "\u001b[0;31m---------------------------------------------------------------------------\u001b[0m",
      "\u001b[0;31mTypeError\u001b[0m                                 Traceback (most recent call last)",
      "Cell \u001b[0;32mIn[102], line 4\u001b[0m\n\u001b[1;32m      1\u001b[0m \u001b[38;5;66;03m#Ex: IMMUTABLE\u001b[39;00m\n\u001b[1;32m      3\u001b[0m a\u001b[38;5;241m=\u001b[39m(\u001b[38;5;241m1\u001b[39m,\u001b[38;5;241m2\u001b[39m,\u001b[38;5;241m3\u001b[39m)\n\u001b[0;32m----> 4\u001b[0m \u001b[43ma\u001b[49m\u001b[43m[\u001b[49m\u001b[38;5;241;43m0\u001b[39;49m\u001b[43m]\u001b[49m\u001b[38;5;241m=\u001b[39m\u001b[38;5;241m62\u001b[39m               \u001b[38;5;66;03m#error\u001b[39;00m\n\u001b[1;32m      5\u001b[0m a\n",
      "\u001b[0;31mTypeError\u001b[0m: 'tuple' object does not support item assignment"
     ]
    }
   ],
   "source": [
    "#Ex: IMMUTABLE\n",
    "\n",
    "a=(1,2,3)\n",
    "a[0]=62               #error\n",
    "a"
   ]
  },
  {
   "cell_type": "code",
   "execution_count": null,
   "id": "37e71459-dd20-471c-80b1-be7eac3d581f",
   "metadata": {},
   "outputs": [],
   "source": []
  }
 ],
 "metadata": {
  "kernelspec": {
   "display_name": "Python 3 (ipykernel)",
   "language": "python",
   "name": "python3"
  },
  "language_info": {
   "codemirror_mode": {
    "name": "ipython",
    "version": 3
   },
   "file_extension": ".py",
   "mimetype": "text/x-python",
   "name": "python",
   "nbconvert_exporter": "python",
   "pygments_lexer": "ipython3",
   "version": "3.10.8"
  }
 },
 "nbformat": 4,
 "nbformat_minor": 5
}
