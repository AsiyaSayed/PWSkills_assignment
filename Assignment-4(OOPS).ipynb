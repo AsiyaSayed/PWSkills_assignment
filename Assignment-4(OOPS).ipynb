{
 "cells": [
  {
   "cell_type": "markdown",
   "id": "2a32e9d8-d338-4735-8c0f-5fdb86764b5f",
   "metadata": {},
   "source": [
    "Q1. Explain Class and Object with respect to Object-Oriented Programming. Give a suitable example.\n",
    "\n",
    "Q2. Name the four pillars of OOPs.\n",
    "\n",
    "Q3. Explain why the __init__() function is used. Give a suitable example.\n",
    "\n",
    "Q4. Why self is used in OOPs?\n",
    "\n",
    "Q5. What is inheritance? Give an example for each type of inheritance."
   ]
  },
  {
   "cell_type": "code",
   "execution_count": null,
   "id": "628b2107-1bb3-4696-baac-11d53c02a73b",
   "metadata": {},
   "outputs": [],
   "source": []
  },
  {
   "cell_type": "code",
   "execution_count": 4,
   "id": "ec27a9cf-e7ca-4d64-bb38-ac457816a34c",
   "metadata": {},
   "outputs": [
    {
     "data": {
      "text/plain": [
       "('Asiya', 'asiya@gmail.com', 7985974843)"
      ]
     },
     "execution_count": 4,
     "metadata": {},
     "output_type": "execute_result"
    }
   ],
   "source": [
    "# Ans.1\n",
    "\n",
    "# Class is a detailed description, the definition, and the template of what an object will be.\n",
    "# But it is not the object itself. Also, what we call, a class is the building block that leads to Object-Oriented Programming.\n",
    "\n",
    "# Object is an instance of a class. All data members and member functions of the class can be accessed with the help of objects.\n",
    "\n",
    "# EX:\n",
    "    \n",
    "class pwskills:\n",
    "        def __init__(self, name, email_id, ph_num):\n",
    "            self.name=name\n",
    "            self.email_id=email_id\n",
    "            self.ph_num=ph_num\n",
    "            \n",
    "        def return_stu_details(self):\n",
    "            return self.name,self.email_id,self.ph_num\n",
    "        \n",
    "asiya=pwskills(\"Asiya\", \"asiya@gmail.com\", 7985974843)\n",
    "asiya.return_stu_details()\n",
    "\n"
   ]
  },
  {
   "cell_type": "code",
   "execution_count": null,
   "id": "db008928-f4e8-4d16-8bb1-b1e2cc4734b7",
   "metadata": {},
   "outputs": [],
   "source": []
  },
  {
   "cell_type": "markdown",
   "id": "e176eb65-fd74-45cb-8f79-49ad326b651e",
   "metadata": {},
   "source": [
    "Ans.2\n",
    "\n",
    "1. Abstraction\n",
    "2. Polymorphism\n",
    "3. Encapsulation\n",
    "4. Inheritance\n"
   ]
  },
  {
   "cell_type": "code",
   "execution_count": null,
   "id": "e48dd94a-4916-463f-b684-040f90056494",
   "metadata": {},
   "outputs": [],
   "source": []
  },
  {
   "cell_type": "markdown",
   "id": "02ea28b0-3f01-401f-b4d0-bacd735199fe",
   "metadata": {},
   "source": [
    "Ans.3 \n",
    "\n",
    "The task of constructors is to initialize(assign values) to the data members of the class when an object of the class is created. \n",
    "In Python the __init__() method is called the constructor and is always called when an object is created.\n",
    "\n",
    "sEX:\n",
    "    \n",
    "class pwskills:\n",
    "        def __init__(self, name, email_id, ph_num):\n",
    "            self.name=name\n",
    "            self.email_id=email_id\n",
    "            self.ph_num=ph_num\n",
    "            \n",
    "        def return_stu_details(self):\n",
    "            return self.name,self.email_id,self.ph_num\n",
    "        \n",
    "asiya=pwskills(\"Asiya\", \"asiya@gmail.com\", 7985974843)\n",
    "asiya.return_stu_details()"
   ]
  },
  {
   "cell_type": "code",
   "execution_count": null,
   "id": "339c7c5c-67ed-40ad-ab66-768dbdf5a24c",
   "metadata": {},
   "outputs": [],
   "source": []
  },
  {
   "cell_type": "markdown",
   "id": "eaac96c6-6d9a-4985-9c99-a13569392680",
   "metadata": {},
   "source": [
    "Ans.4\n",
    "\n",
    "The self variable is used to represent the instance of the class which is often used in object-oriented programming.\n",
    "It works as a reference to the object."
   ]
  },
  {
   "cell_type": "code",
   "execution_count": null,
   "id": "704eaa15-7060-4c74-a7f7-9429a509e26d",
   "metadata": {},
   "outputs": [],
   "source": []
  },
  {
   "cell_type": "markdown",
   "id": "845f6cce-bd1a-4606-92db-1249b8c5b910",
   "metadata": {},
   "source": [
    "Ans.5\n",
    "\n",
    "Inheritance allows us to define a class that inherits all the methods and properties from another class. \n",
    "\n",
    "Types of Inheritance in Python:\n",
    "Types of Inheritance depend upon the number of child and parent classes involved. There are four types of inheritance in Python:\n",
    "\n",
    "1.Single Inheritance: \n",
    "Single inheritance enables a derived class to inherit properties from a single parent class, thus enabling code reusability and the addition of new features to existing code.\n",
    "\n",
    "2.Multiple Inheritance: \n",
    "When a class can be derived from more than one base class this type of inheritance is called multiple inheritances. In multiple inheritances, all the features of the base classes are inherited into the derived class.\n",
    "\n",
    "3.Multilevel Inheritance :\n",
    "In multilevel inheritance, features of the base class and the derived class are further inherited into the new derived class. This is similar to a relationship representing a child and a grandfather. \n",
    "\n",
    "4.Hierarchical Inheritance: \n",
    "When more than one derived class are created from a single base this type of inheritance is called hierarchical inheritance. In this program, we have a parent (base) class and two child (derived) classes.\n",
    "\n"
   ]
  },
  {
   "cell_type": "code",
   "execution_count": null,
   "id": "bcd32940-32ff-402b-9055-751455cfeb97",
   "metadata": {},
   "outputs": [],
   "source": []
  }
 ],
 "metadata": {
  "kernelspec": {
   "display_name": "Python 3 (ipykernel)",
   "language": "python",
   "name": "python3"
  },
  "language_info": {
   "codemirror_mode": {
    "name": "ipython",
    "version": 3
   },
   "file_extension": ".py",
   "mimetype": "text/x-python",
   "name": "python",
   "nbconvert_exporter": "python",
   "pygments_lexer": "ipython3",
   "version": "3.10.8"
  }
 },
 "nbformat": 4,
 "nbformat_minor": 5
}
