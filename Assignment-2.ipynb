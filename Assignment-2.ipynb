{
 "cells": [
  {
   "cell_type": "markdown",
   "id": "1200c941-4d6c-4a5a-ae42-e3fd50a4f02e",
   "metadata": {},
   "source": [
    "QUESTION-1\n",
    "\n",
    "How do you comment code in Python? What are the different types of comments?"
   ]
  },
  {
   "cell_type": "raw",
   "id": "0ccc2a46-d155-4a0e-abd1-a69d26ac13ac",
   "metadata": {},
   "source": [
    "Comments in Python are identified with a hash symbol, #\n",
    "\n",
    "Types of comment:\n",
    "    Single line comment\n",
    "    Multi-line comment\n",
    "    "
   ]
  },
  {
   "cell_type": "markdown",
   "id": "72bc21cf-e953-4898-8db3-b67df43e9665",
   "metadata": {},
   "source": [
    "QUESTION-2\n",
    "\n",
    "What are variables in Python? How do you declare and assign values to variables?"
   ]
  },
  {
   "cell_type": "raw",
   "id": "e394d06d-6419-4c3c-a065-7ab0b859cbda",
   "metadata": {},
   "source": [
    "A Python variable is a reserved memory location to store values.\n",
    "\n",
    "Declaring a variable in Python is very simple \n",
    "Just name the variable.\n",
    "Assign the required value to it.\n",
    "The data type of the variable will be automatically determined from the value assigned, we need not define it explicitly.\n"
   ]
  },
  {
   "cell_type": "markdown",
   "id": "43b58176-952f-48a0-a241-ea6d1d7a94db",
   "metadata": {},
   "source": [
    "QUESTION-3\n",
    "\n",
    "How do you convert one data type to another in Python?"
   ]
  },
  {
   "cell_type": "code",
   "execution_count": 4,
   "id": "a0beb4d4-835e-4bb2-a8cc-421bcd56b0a9",
   "metadata": {},
   "outputs": [
    {
     "name": "stdout",
     "output_type": "stream",
     "text": [
      "<class 'int'>\n",
      "<class 'str'>\n"
     ]
    }
   ],
   "source": [
    "a = 10\n",
    "# Converting number to string\n",
    "s = str(a)\n",
    "print(type(a))\n",
    "print(type(s))"
   ]
  },
  {
   "cell_type": "markdown",
   "id": "15e4399b-6fb0-47cc-8cc5-f8dc6f9ce738",
   "metadata": {},
   "source": [
    "QUESTION-4\n",
    "\n",
    "How do you write and execute a Python script from the command line?"
   ]
  },
  {
   "cell_type": "raw",
   "id": "4e396c9f-ad47-4e55-9a7d-3b92f134049b",
   "metadata": {},
   "source": [
    "\n",
    "You can create a Python file by typing “vim” along with the file name in the Terminal.\n",
    "Use the “cd” command to navigate to the directory where you want to create your Python File.\n",
    "Create a new Python file called “hello.py” by typing “vim hello.py” in the terminal.\n",
    "Modify the Python file by switching to Insert Mode by Pressing the letter “i”.\n",
    "Once in insert mode, you can start writing Python code in the Vim editor.\n",
    "Press ESC and then use the :wq command to save the file, then press ENTER.\n"
   ]
  },
  {
   "cell_type": "markdown",
   "id": "fbe72cfd-545f-4285-a748-7b0b2033eb09",
   "metadata": {},
   "source": [
    "Question-5\n",
    "\n",
    "Given a list my_list = [1, 2, 3, 4, 5], write the code to slice the list and obtain the sub-list [2, 3]."
   ]
  },
  {
   "cell_type": "code",
   "execution_count": 8,
   "id": "39e4fc86-f851-4e69-9aad-434fe9e0dfb2",
   "metadata": {},
   "outputs": [
    {
     "data": {
      "text/plain": [
       "[2, 3]"
      ]
     },
     "execution_count": 8,
     "metadata": {},
     "output_type": "execute_result"
    }
   ],
   "source": [
    "my_list = [1, 2, 3, 4, 5]\n",
    "sub_list=my_list[1:3]\n",
    "sub_list"
   ]
  },
  {
   "cell_type": "markdown",
   "id": "e0b723d5-c268-4891-bee9-aae0b3e84fad",
   "metadata": {},
   "source": [
    "QUESTION-6\n",
    "\n",
    "What is a complex number in mathematics, and how is it represented in Python?"
   ]
  },
  {
   "cell_type": "raw",
   "id": "81d5171d-1d34-4a9d-9994-a4889295d58d",
   "metadata": {},
   "source": [
    "\n",
    "Complex numbers are the numbers that are expressed in the form of a+ib where, a,b are real numbers and 'i' is an imaginary number called “iota”.\n",
    "An complex number in Python is represented by “ x + yi “. \n"
   ]
  },
  {
   "cell_type": "markdown",
   "id": "5e336eb7-21b5-4221-b56f-9e8ca397e2eb",
   "metadata": {},
   "source": [
    "Question-7\n",
    "\n",
    "What is the correct way to declare a variable named age and assign the value 25 to it?"
   ]
  },
  {
   "cell_type": "code",
   "execution_count": 7,
   "id": "ab08668e-c0d8-4a42-9479-e898238b3999",
   "metadata": {},
   "outputs": [],
   "source": [
    "age=25"
   ]
  },
  {
   "cell_type": "markdown",
   "id": "07617688-02b6-4bb7-8d65-c2e88f035faf",
   "metadata": {},
   "source": [
    "QUESTION-8\n",
    "\n",
    "Declare a variable named price and assign the value 9.99 to it. What data type does this variable\n",
    "belong to?"
   ]
  },
  {
   "cell_type": "code",
   "execution_count": 9,
   "id": "93c9170c-b9ba-479c-aa50-552eead8f58c",
   "metadata": {},
   "outputs": [
    {
     "data": {
      "text/plain": [
       "float"
      ]
     },
     "execution_count": 9,
     "metadata": {},
     "output_type": "execute_result"
    }
   ],
   "source": [
    "price=9.99\n",
    "type(price)"
   ]
  },
  {
   "cell_type": "markdown",
   "id": "b136c5b7-faf7-4208-8c0b-80976efae406",
   "metadata": {},
   "source": [
    "QUESTION-9\n",
    "\n",
    "Create a variable named name and assign your full name to it as a string. How would you print the\n",
    "value of this variable?"
   ]
  },
  {
   "cell_type": "code",
   "execution_count": 10,
   "id": "c4504db2-f4f4-4186-b31f-33eaee92a51b",
   "metadata": {},
   "outputs": [
    {
     "name": "stdout",
     "output_type": "stream",
     "text": [
      "Asiya Sayed\n"
     ]
    }
   ],
   "source": [
    "name=\"Asiya Sayed\"\n",
    "print(name)"
   ]
  },
  {
   "cell_type": "markdown",
   "id": "3c7b4dd2-eea6-478f-9bca-e2e615aa3571",
   "metadata": {},
   "source": [
    "QUESTION-10\n",
    "\n",
    "Given the string \"Hello, World!\", extract the substring \"World\"."
   ]
  },
  {
   "cell_type": "code",
   "execution_count": 11,
   "id": "5b9e54a8-e60c-4202-bba7-461865546ba1",
   "metadata": {},
   "outputs": [
    {
     "data": {
      "text/plain": [
       "'World'"
      ]
     },
     "execution_count": 11,
     "metadata": {},
     "output_type": "execute_result"
    }
   ],
   "source": [
    "a=\"Hello, World!\"\n",
    "sub=a[7:12]\n",
    "sub"
   ]
  },
  {
   "cell_type": "markdown",
   "id": "afa2e92c-a299-4dd5-8cd3-8495b875a375",
   "metadata": {},
   "source": [
    "QUESTION-11\n",
    "\n",
    "Create a variable named \"is_student\" and assign it a boolean value indicating whether you are\n",
    "currently a student or not.\n"
   ]
  },
  {
   "cell_type": "code",
   "execution_count": 12,
   "id": "eef1c355-0b21-44e1-b284-58bbdcbcf39b",
   "metadata": {},
   "outputs": [
    {
     "data": {
      "text/plain": [
       "True"
      ]
     },
     "execution_count": 12,
     "metadata": {},
     "output_type": "execute_result"
    }
   ],
   "source": [
    "is_student=True\n",
    "bool(is_student)"
   ]
  },
  {
   "cell_type": "code",
   "execution_count": null,
   "id": "2a600421-73b2-43ae-85d3-26ca36caf2f0",
   "metadata": {},
   "outputs": [],
   "source": []
  },
  {
   "cell_type": "code",
   "execution_count": null,
   "id": "93c5a7a8-cb5c-46f3-98b6-58a06911db52",
   "metadata": {},
   "outputs": [],
   "source": []
  }
 ],
 "metadata": {
  "kernelspec": {
   "display_name": "Python 3 (ipykernel)",
   "language": "python",
   "name": "python3"
  },
  "language_info": {
   "codemirror_mode": {
    "name": "ipython",
    "version": 3
   },
   "file_extension": ".py",
   "mimetype": "text/x-python",
   "name": "python",
   "nbconvert_exporter": "python",
   "pygments_lexer": "ipython3",
   "version": "3.10.8"
  }
 },
 "nbformat": 4,
 "nbformat_minor": 5
}
